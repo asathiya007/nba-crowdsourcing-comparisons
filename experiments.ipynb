{
 "cells": [
  {
   "cell_type": "code",
   "execution_count": 1,
   "id": "f098a862",
   "metadata": {},
   "outputs": [],
   "source": [
    "# import modules \n",
    "from machine_learning import machine_learning_pipeline\n",
    "from experiments import exp_random_pair_gen_time, exp_construct_dataset_time, exp_model_training, exp_model_prediction_time\n",
    "import pandas as pd\n",
    "\n",
    "%load_ext autoreload\n",
    "%autoreload 2"
   ]
  },
  {
   "cell_type": "code",
   "execution_count": 2,
   "id": "c84e8b81",
   "metadata": {},
   "outputs": [
    {
     "data": {
      "text/html": [
       "<div>\n",
       "<style scoped>\n",
       "    .dataframe tbody tr th:only-of-type {\n",
       "        vertical-align: middle;\n",
       "    }\n",
       "\n",
       "    .dataframe tbody tr th {\n",
       "        vertical-align: top;\n",
       "    }\n",
       "\n",
       "    .dataframe thead th {\n",
       "        text-align: right;\n",
       "    }\n",
       "</style>\n",
       "<table border=\"1\" class=\"dataframe\">\n",
       "  <thead>\n",
       "    <tr style=\"text-align: right;\">\n",
       "      <th></th>\n",
       "      <th>Mean</th>\n",
       "      <th>Median</th>\n",
       "      <th>Range</th>\n",
       "      <th>Standard Deviation</th>\n",
       "      <th>Variance</th>\n",
       "    </tr>\n",
       "  </thead>\n",
       "  <tbody>\n",
       "    <tr>\n",
       "      <th>Random Pair Generation Time (s)</th>\n",
       "      <td>2.856263</td>\n",
       "      <td>2.748174</td>\n",
       "      <td>0.938422</td>\n",
       "      <td>0.354569</td>\n",
       "      <td>0.125719</td>\n",
       "    </tr>\n",
       "  </tbody>\n",
       "</table>\n",
       "</div>"
      ],
      "text/plain": [
       "                                     Mean    Median     Range  \\\n",
       "Random Pair Generation Time (s)  2.856263  2.748174  0.938422   \n",
       "\n",
       "                                 Standard Deviation  Variance  \n",
       "Random Pair Generation Time (s)            0.354569  0.125719  "
      ]
     },
     "execution_count": 2,
     "metadata": {},
     "output_type": "execute_result"
    }
   ],
   "source": [
    "# run experiment for timing creation of random pairs of NBA players\n",
    "exp_random_pair_gen_time() "
   ]
  },
  {
   "cell_type": "code",
   "execution_count": 3,
   "id": "6a2b4510",
   "metadata": {},
   "outputs": [
    {
     "data": {
      "text/html": [
       "<div>\n",
       "<style scoped>\n",
       "    .dataframe tbody tr th:only-of-type {\n",
       "        vertical-align: middle;\n",
       "    }\n",
       "\n",
       "    .dataframe tbody tr th {\n",
       "        vertical-align: top;\n",
       "    }\n",
       "\n",
       "    .dataframe thead th {\n",
       "        text-align: right;\n",
       "    }\n",
       "</style>\n",
       "<table border=\"1\" class=\"dataframe\">\n",
       "  <thead>\n",
       "    <tr style=\"text-align: right;\">\n",
       "      <th></th>\n",
       "      <th>Number of Samples</th>\n",
       "      <th>Mean</th>\n",
       "      <th>Median</th>\n",
       "      <th>Range</th>\n",
       "      <th>Standard Deviation</th>\n",
       "      <th>Variance</th>\n",
       "    </tr>\n",
       "  </thead>\n",
       "  <tbody>\n",
       "    <tr>\n",
       "      <th>Dataset Construction Time (s)</th>\n",
       "      <td>586</td>\n",
       "      <td>713.870362</td>\n",
       "      <td>709.367545</td>\n",
       "      <td>45.776913</td>\n",
       "      <td>17.818581</td>\n",
       "      <td>317.501817</td>\n",
       "    </tr>\n",
       "  </tbody>\n",
       "</table>\n",
       "</div>"
      ],
      "text/plain": [
       "                               Number of Samples        Mean      Median  \\\n",
       "Dataset Construction Time (s)                586  713.870362  709.367545   \n",
       "\n",
       "                                   Range  Standard Deviation    Variance  \n",
       "Dataset Construction Time (s)  45.776913           17.818581  317.501817  "
      ]
     },
     "execution_count": 3,
     "metadata": {},
     "output_type": "execute_result"
    }
   ],
   "source": [
    "# run experiment for timing dataset construction \n",
    "exp_construct_dataset_time() "
   ]
  },
  {
   "cell_type": "code",
   "execution_count": 4,
   "id": "68884867",
   "metadata": {},
   "outputs": [
    {
     "data": {
      "text/html": [
       "<div>\n",
       "<style scoped>\n",
       "    .dataframe tbody tr th:only-of-type {\n",
       "        vertical-align: middle;\n",
       "    }\n",
       "\n",
       "    .dataframe tbody tr th {\n",
       "        vertical-align: top;\n",
       "    }\n",
       "\n",
       "    .dataframe thead th {\n",
       "        text-align: right;\n",
       "    }\n",
       "</style>\n",
       "<table border=\"1\" class=\"dataframe\">\n",
       "  <thead>\n",
       "    <tr style=\"text-align: right;\">\n",
       "      <th></th>\n",
       "      <th>Linear Regression Fit Time (s)</th>\n",
       "      <th>Linear Regression MSE</th>\n",
       "      <th>Random Forest Fit Time (s)</th>\n",
       "      <th>Random Forest MSE</th>\n",
       "    </tr>\n",
       "  </thead>\n",
       "  <tbody>\n",
       "    <tr>\n",
       "      <th>No Scaling 1</th>\n",
       "      <td>0.002059</td>\n",
       "      <td>0.160126</td>\n",
       "      <td>0.038513</td>\n",
       "      <td>0.163764</td>\n",
       "    </tr>\n",
       "    <tr>\n",
       "      <th>No Scaling 2</th>\n",
       "      <td>0.002464</td>\n",
       "      <td>0.159944</td>\n",
       "      <td>0.034221</td>\n",
       "      <td>0.168204</td>\n",
       "    </tr>\n",
       "    <tr>\n",
       "      <th>No Scaling 3</th>\n",
       "      <td>0.002018</td>\n",
       "      <td>0.144416</td>\n",
       "      <td>0.032777</td>\n",
       "      <td>0.159620</td>\n",
       "    </tr>\n",
       "    <tr>\n",
       "      <th>Standard Scaling 1</th>\n",
       "      <td>0.000833</td>\n",
       "      <td>0.161982</td>\n",
       "      <td>0.033598</td>\n",
       "      <td>0.155567</td>\n",
       "    </tr>\n",
       "    <tr>\n",
       "      <th>Standard Scaling 2</th>\n",
       "      <td>0.000598</td>\n",
       "      <td>0.148682</td>\n",
       "      <td>0.033315</td>\n",
       "      <td>0.167808</td>\n",
       "    </tr>\n",
       "    <tr>\n",
       "      <th>Standard Scaling 3</th>\n",
       "      <td>0.000603</td>\n",
       "      <td>0.141381</td>\n",
       "      <td>0.034740</td>\n",
       "      <td>0.154336</td>\n",
       "    </tr>\n",
       "  </tbody>\n",
       "</table>\n",
       "</div>"
      ],
      "text/plain": [
       "                    Linear Regression Fit Time (s)  Linear Regression MSE  \\\n",
       "No Scaling 1                              0.002059               0.160126   \n",
       "No Scaling 2                              0.002464               0.159944   \n",
       "No Scaling 3                              0.002018               0.144416   \n",
       "Standard Scaling 1                        0.000833               0.161982   \n",
       "Standard Scaling 2                        0.000598               0.148682   \n",
       "Standard Scaling 3                        0.000603               0.141381   \n",
       "\n",
       "                    Random Forest Fit Time (s)  Random Forest MSE  \n",
       "No Scaling 1                          0.038513           0.163764  \n",
       "No Scaling 2                          0.034221           0.168204  \n",
       "No Scaling 3                          0.032777           0.159620  \n",
       "Standard Scaling 1                    0.033598           0.155567  \n",
       "Standard Scaling 2                    0.033315           0.167808  \n",
       "Standard Scaling 3                    0.034740           0.154336  "
      ]
     },
     "execution_count": 4,
     "metadata": {},
     "output_type": "execute_result"
    }
   ],
   "source": [
    "# run experiment for training machine learning models \n",
    "exp_model_training() "
   ]
  },
  {
   "cell_type": "code",
   "execution_count": 8,
   "id": "9537aeaa",
   "metadata": {},
   "outputs": [
    {
     "name": "stdout",
     "output_type": "stream",
     "text": [
      "Loaded existing dataset\n",
      "\n",
      "Prepared data for model training\n",
      "\n",
      "Trained linear regression model\n",
      "Mean Squared Error:  0.16846352701596598\n",
      "Saved linear regression model as ./linear_regression.joblib\n",
      "\n",
      "Trained random forest model\n",
      "Mean Squared Error:  0.16073460451977406\n",
      "Saved random forest model as ./random_forest.joblib\n",
      "\n"
     ]
    }
   ],
   "source": [
    "# run machine learning pipeline, with scaling logic added since experiments showed it to be beneficial \n",
    "machine_learning_pipeline(1)"
   ]
  },
  {
   "cell_type": "code",
   "execution_count": 9,
   "id": "90f05beb",
   "metadata": {},
   "outputs": [
    {
     "data": {
      "text/html": [
       "<div>\n",
       "<style scoped>\n",
       "    .dataframe tbody tr th:only-of-type {\n",
       "        vertical-align: middle;\n",
       "    }\n",
       "\n",
       "    .dataframe tbody tr th {\n",
       "        vertical-align: top;\n",
       "    }\n",
       "\n",
       "    .dataframe thead th {\n",
       "        text-align: right;\n",
       "    }\n",
       "</style>\n",
       "<table border=\"1\" class=\"dataframe\">\n",
       "  <thead>\n",
       "    <tr style=\"text-align: right;\">\n",
       "      <th></th>\n",
       "      <th>Mean</th>\n",
       "      <th>Median</th>\n",
       "      <th>Range</th>\n",
       "      <th>Standard Deviation</th>\n",
       "      <th>Variance</th>\n",
       "    </tr>\n",
       "  </thead>\n",
       "  <tbody>\n",
       "    <tr>\n",
       "      <th>Linear Regression Prediction Time (s)</th>\n",
       "      <td>2.581164</td>\n",
       "      <td>2.639429</td>\n",
       "      <td>0.339457</td>\n",
       "      <td>0.156272</td>\n",
       "      <td>0.024421</td>\n",
       "    </tr>\n",
       "    <tr>\n",
       "      <th>Random Forest Prediction Time (s)</th>\n",
       "      <td>2.869105</td>\n",
       "      <td>2.705579</td>\n",
       "      <td>1.481057</td>\n",
       "      <td>0.596905</td>\n",
       "      <td>0.356296</td>\n",
       "    </tr>\n",
       "  </tbody>\n",
       "</table>\n",
       "</div>"
      ],
      "text/plain": [
       "                                           Mean    Median     Range  \\\n",
       "Linear Regression Prediction Time (s)  2.581164  2.639429  0.339457   \n",
       "Random Forest Prediction Time (s)      2.869105  2.705579  1.481057   \n",
       "\n",
       "                                       Standard Deviation  Variance  \n",
       "Linear Regression Prediction Time (s)            0.156272  0.024421  \n",
       "Random Forest Prediction Time (s)                0.596905  0.356296  "
      ]
     },
     "execution_count": 9,
     "metadata": {},
     "output_type": "execute_result"
    }
   ],
   "source": [
    "# run experiment for timing model predictions \n",
    "exp_model_prediction_time()"
   ]
  },
  {
   "cell_type": "code",
   "execution_count": null,
   "id": "c86ed101",
   "metadata": {},
   "outputs": [],
   "source": []
  }
 ],
 "metadata": {
  "kernelspec": {
   "display_name": "Python 3 (ipykernel)",
   "language": "python",
   "name": "python3"
  },
  "language_info": {
   "codemirror_mode": {
    "name": "ipython",
    "version": 3
   },
   "file_extension": ".py",
   "mimetype": "text/x-python",
   "name": "python",
   "nbconvert_exporter": "python",
   "pygments_lexer": "ipython3",
   "version": "3.8.5"
  }
 },
 "nbformat": 4,
 "nbformat_minor": 5
}
